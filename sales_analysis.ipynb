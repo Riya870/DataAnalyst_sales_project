{
 "cells": [
  {
   "cell_type": "code",
   "execution_count": 14,
   "id": "a3e0f568-3507-4a85-b5d6-15f91e43c3b6",
   "metadata": {},
   "outputs": [],
   "source": [
    "import sqlite3"
   ]
  },
  {
   "cell_type": "code",
   "execution_count": 20,
   "id": "b8f40b92-9f36-4590-a2f4-1836916027c2",
   "metadata": {},
   "outputs": [],
   "source": [
    "import pandas as pd"
   ]
  },
  {
   "cell_type": "code",
   "execution_count": 23,
   "id": "8a83bc81-f337-49d9-912a-3ccb66929997",
   "metadata": {},
   "outputs": [],
   "source": [
    "data = pd.read_csv('sales_data.csv')"
   ]
  },
  {
   "cell_type": "code",
   "execution_count": 27,
   "id": "3cf30811-135e-492b-bd1e-e05178d42d87",
   "metadata": {},
   "outputs": [],
   "source": [
    "conn = sqlite3.connect('sales_data.db')"
   ]
  },
  {
   "cell_type": "code",
   "execution_count": 28,
   "id": "f577cd56-a102-44b2-a2d6-078079fb28bb",
   "metadata": {},
   "outputs": [
    {
     "data": {
      "text/plain": [
       "19"
      ]
     },
     "execution_count": 28,
     "metadata": {},
     "output_type": "execute_result"
    }
   ],
   "source": [
    "data.to_sql('sales', conn, if_exists='replace', index=False)"
   ]
  },
  {
   "cell_type": "code",
   "execution_count": 29,
   "id": "36563e87-dd12-4770-87bc-273c6aebd1ac",
   "metadata": {},
   "outputs": [],
   "source": [
    "conn.close()"
   ]
  },
  {
   "cell_type": "code",
   "execution_count": 30,
   "id": "2e58fd88-1758-40b4-97a3-ce681c6f734c",
   "metadata": {},
   "outputs": [],
   "source": [
    "import sqlite3"
   ]
  },
  {
   "cell_type": "code",
   "execution_count": 31,
   "id": "938f1875-c277-4486-ae70-49526c6f1f5b",
   "metadata": {},
   "outputs": [],
   "source": [
    "import pandas as pd"
   ]
  },
  {
   "cell_type": "code",
   "execution_count": 32,
   "id": "87a2dc84-efe1-458b-9c8e-2306188b94b4",
   "metadata": {},
   "outputs": [],
   "source": [
    "conn = sqlite3.connect('sales_data.db')"
   ]
  },
  {
   "cell_type": "code",
   "execution_count": 33,
   "id": "4de25033-9628-4603-b38b-9180ffd9fdcb",
   "metadata": {},
   "outputs": [],
   "source": [
    "# Query the data\n",
    "query = 'SELECT * FROM sales'\n",
    "df = pd.read_sql_query(query, conn)"
   ]
  },
  {
   "cell_type": "code",
   "execution_count": 35,
   "id": "60b3f4eb-747d-43e3-97c1-99894919c6e8",
   "metadata": {},
   "outputs": [],
   "source": [
    "# Close the connection\n",
    "conn.close()"
   ]
  },
  {
   "cell_type": "code",
   "execution_count": 36,
   "id": "fb9ce6df-dbf2-48bc-8ba4-147a9732cfa8",
   "metadata": {},
   "outputs": [
    {
     "name": "stdout",
     "output_type": "stream",
     "text": [
      "   orderID      product  sales  quantity         region  order_date Price  \\\n",
      "0     1001       Laptop   1500         2  North America  12-01-2023  None   \n",
      "1     1002  SmartPhones    800         1         Europe  25-02-2023  None   \n",
      "2     1003   HeadPhones    200         5           Asia  15-03-2023  None   \n",
      "3     1004       Laptop   1200         1  North America  10-04-2023  None   \n",
      "4     1005       Camera    500         3         Europe  05-05-2023  None   \n",
      "\n",
      "   City State  \n",
      "0  None  None  \n",
      "1  None  None  \n",
      "2  None  None  \n",
      "3  None  None  \n",
      "4  None  None  \n"
     ]
    }
   ],
   "source": [
    "# Display the first few rows\n",
    "print(df.head())"
   ]
  },
  {
   "cell_type": "code",
   "execution_count": 37,
   "id": "20497f08-1ae9-492e-a850-937cd4403804",
   "metadata": {},
   "outputs": [],
   "source": [
    "import seaborn as sns\n",
    "import matplotlib.pyplot as plt"
   ]
  },
  {
   "cell_type": "code",
   "execution_count": 38,
   "id": "a4a098c4-b7e8-4021-9381-b7e1573c92dc",
   "metadata": {},
   "outputs": [],
   "source": [
    "# Group data by region\n",
    "region_sales = df.groupby('region')['sales'].sum().reset_index()"
   ]
  },
  {
   "cell_type": "code",
   "execution_count": 39,
   "id": "06b23482-0226-4397-95f6-9b207398b295",
   "metadata": {},
   "outputs": [
    {
     "data": {
      "image/png": "[encoded data removed]",
      "text/plain": [
       "<Figure size 640x480 with 1 Axes>"
      ]
     },
     "metadata": {},
     "output_type": "display_data"
    }
   ],
   "source": [
    "# Plot the sales by region\n",
    "sns.barplot(x='region', y='sales', data=region_sales)\n",
    "plt.title('Total Sales by Region')\n",
    "plt.show()"
   ]
  },
  {
   "cell_type": "code",
   "execution_count": null,
   "id": "f12067e4-3ac3-44de-a976-e5d214ef2ce6",
   "metadata": {},
   "outputs": [],
   "source": []
  }
 ],
 "metadata": {
  "kernelspec": {
   "display_name": "Python 3 (ipykernel)",
   "language": "python",
   "name": "python3"
  },
  "language_info": {
   "codemirror_mode": {
    "name": "ipython",
    "version": 3
   },
   "file_extension": ".py",
   "mimetype": "text/x-python",
   "name": "python",
   "nbconvert_exporter": "python",
   "pygments_lexer": "ipython3",
   "version": "3.12.6"
  }
 },
 "nbformat": 4,
 "nbformat_minor": 5
}
